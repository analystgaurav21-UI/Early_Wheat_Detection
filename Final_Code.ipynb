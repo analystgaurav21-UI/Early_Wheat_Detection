{
 "cells": [
  {
   "cell_type": "markdown",
   "id": "72d81a8d-b696-4802-b119-341b6f1537b1",
   "metadata": {},
   "source": [
    "# Diseases Code"
   ]
  },
  {
   "cell_type": "code",
   "execution_count": 1,
   "id": "d8286cd3-5b2e-4d9d-a27d-6c84236f01f6",
   "metadata": {},
   "outputs": [
    {
     "name": "stdout",
     "output_type": "stream",
     "text": [
      "Classes: ['Aphid', 'Black Rust', 'Blast', 'Brown Rust', 'Common Root Rot', 'Fusarium Head Blight', 'Healthy', 'Leaf Blight', 'Mildew', 'Mite', 'Septoria', 'Smut', 'Stem fly', 'Tan spot', 'Yellow Rust']\n"
     ]
    },
    {
     "name": "stderr",
     "output_type": "stream",
     "text": [
      "Epoch 1/20:   0%|                                                                                                                     | 0/410 [00:00<?, ?it/s]/home/cipher/.wheat/lib/python3.12/site-packages/torch/utils/data/dataloader.py:668: UserWarning: 'pin_memory' argument is set as true but no accelerator is found, then device pinned memory won't be used.\n",
      "  warnings.warn(warn_msg)\n",
      "Epoch 1/20: 100%|███████████████████████████████████████████████████████████████████████████████████████████████| 410/410 [28:30<00:00,  4.17s/it, loss=0.365]\n"
     ]
    },
    {
     "name": "stdout",
     "output_type": "stream",
     "text": [
      "Epoch 1 summary — train_loss: 1.1813 val_loss: 1.1314 val_acc: 0.7000 val_f1: 0.6800\n",
      "Saved best model.\n"
     ]
    },
    {
     "name": "stderr",
     "output_type": "stream",
     "text": [
      "Epoch 2/20:   0%|                                                                                                                     | 0/410 [00:00<?, ?it/s]/home/cipher/.wheat/lib/python3.12/site-packages/torch/utils/data/dataloader.py:668: UserWarning: 'pin_memory' argument is set as true but no accelerator is found, then device pinned memory won't be used.\n",
      "  warnings.warn(warn_msg)\n",
      "Epoch 2/20: 100%|███████████████████████████████████████████████████████████████████████████████████████████████| 410/410 [29:05<00:00,  4.26s/it, loss=0.797]\n"
     ]
    },
    {
     "name": "stdout",
     "output_type": "stream",
     "text": [
      "Epoch 2 summary — train_loss: 0.5279 val_loss: 0.8592 val_acc: 0.7833 val_f1: 0.7675\n",
      "Saved best model.\n"
     ]
    },
    {
     "name": "stderr",
     "output_type": "stream",
     "text": [
      "Epoch 3/20:   0%|                                                                                                                     | 0/410 [00:00<?, ?it/s]/home/cipher/.wheat/lib/python3.12/site-packages/torch/utils/data/dataloader.py:668: UserWarning: 'pin_memory' argument is set as true but no accelerator is found, then device pinned memory won't be used.\n",
      "  warnings.warn(warn_msg)\n",
      "Epoch 3/20: 100%|███████████████████████████████████████████████████████████████████████████████████████████████| 410/410 [29:43<00:00,  4.35s/it, loss=0.678]\n"
     ]
    },
    {
     "name": "stdout",
     "output_type": "stream",
     "text": [
      "Epoch 3 summary — train_loss: 0.3747 val_loss: 0.7609 val_acc: 0.8467 val_f1: 0.8310\n",
      "Saved best model.\n"
     ]
    },
    {
     "name": "stderr",
     "output_type": "stream",
     "text": [
      "Epoch 4/20:   0%|                                                                                                                     | 0/410 [00:00<?, ?it/s]/home/cipher/.wheat/lib/python3.12/site-packages/torch/utils/data/dataloader.py:668: UserWarning: 'pin_memory' argument is set as true but no accelerator is found, then device pinned memory won't be used.\n",
      "  warnings.warn(warn_msg)\n",
      "Epoch 4/20: 100%|███████████████████████████████████████████████████████████████████████████████████████████████| 410/410 [32:06<00:00,  4.70s/it, loss=0.161]\n"
     ]
    },
    {
     "name": "stdout",
     "output_type": "stream",
     "text": [
      "Epoch 4 summary — train_loss: 0.2932 val_loss: 0.6338 val_acc: 0.8900 val_f1: 0.8757\n",
      "Saved best model.\n"
     ]
    },
    {
     "name": "stderr",
     "output_type": "stream",
     "text": [
      "Epoch 5/20:   0%|                                                                                                                     | 0/410 [00:00<?, ?it/s]/home/cipher/.wheat/lib/python3.12/site-packages/torch/utils/data/dataloader.py:668: UserWarning: 'pin_memory' argument is set as true but no accelerator is found, then device pinned memory won't be used.\n",
      "  warnings.warn(warn_msg)\n",
      "Epoch 5/20: 100%|███████████████████████████████████████████████████████████████████████████████████████████████| 410/410 [30:59<00:00,  4.53s/it, loss=0.294]\n"
     ]
    },
    {
     "name": "stdout",
     "output_type": "stream",
     "text": [
      "Epoch 5 summary — train_loss: 0.2265 val_loss: 0.6555 val_acc: 0.8767 val_f1: 0.8646\n"
     ]
    },
    {
     "name": "stderr",
     "output_type": "stream",
     "text": [
      "Epoch 6/20:   0%|                                                                                                                     | 0/410 [00:00<?, ?it/s]/home/cipher/.wheat/lib/python3.12/site-packages/torch/utils/data/dataloader.py:668: UserWarning: 'pin_memory' argument is set as true but no accelerator is found, then device pinned memory won't be used.\n",
      "  warnings.warn(warn_msg)\n",
      "Epoch 6/20: 100%|███████████████████████████████████████████████████████████████████████████████████████████████| 410/410 [28:49<00:00,  4.22s/it, loss=0.331]\n"
     ]
    },
    {
     "name": "stdout",
     "output_type": "stream",
     "text": [
      "Epoch 6 summary — train_loss: 0.1899 val_loss: 0.6725 val_acc: 0.8833 val_f1: 0.8660\n"
     ]
    },
    {
     "name": "stderr",
     "output_type": "stream",
     "text": [
      "Epoch 7/20:   0%|                                                                                                                     | 0/410 [00:00<?, ?it/s]/home/cipher/.wheat/lib/python3.12/site-packages/torch/utils/data/dataloader.py:668: UserWarning: 'pin_memory' argument is set as true but no accelerator is found, then device pinned memory won't be used.\n",
      "  warnings.warn(warn_msg)\n",
      "Epoch 7/20: 100%|███████████████████████████████████████████████████████████████████████████████████████████████| 410/410 [28:48<00:00,  4.22s/it, loss=0.447]\n"
     ]
    },
    {
     "name": "stdout",
     "output_type": "stream",
     "text": [
      "Epoch 7 summary — train_loss: 0.1608 val_loss: 0.5944 val_acc: 0.9000 val_f1: 0.8830\n",
      "Saved best model.\n"
     ]
    },
    {
     "name": "stderr",
     "output_type": "stream",
     "text": [
      "Epoch 8/20:   0%|                                                                                                                     | 0/410 [00:00<?, ?it/s]/home/cipher/.wheat/lib/python3.12/site-packages/torch/utils/data/dataloader.py:668: UserWarning: 'pin_memory' argument is set as true but no accelerator is found, then device pinned memory won't be used.\n",
      "  warnings.warn(warn_msg)\n",
      "Epoch 8/20: 100%|█████████████████████████████████████████████████████████████████████████████████████████████████| 410/410 [28:50<00:00,  4.22s/it, loss=0.1]\n"
     ]
    },
    {
     "name": "stdout",
     "output_type": "stream",
     "text": [
      "Epoch 8 summary — train_loss: 0.1469 val_loss: 0.6695 val_acc: 0.8967 val_f1: 0.8774\n"
     ]
    },
    {
     "name": "stderr",
     "output_type": "stream",
     "text": [
      "Epoch 9/20:   0%|                                                                                                                     | 0/410 [00:00<?, ?it/s]/home/cipher/.wheat/lib/python3.12/site-packages/torch/utils/data/dataloader.py:668: UserWarning: 'pin_memory' argument is set as true but no accelerator is found, then device pinned memory won't be used.\n",
      "  warnings.warn(warn_msg)\n",
      "Epoch 9/20: 100%|███████████████████████████████████████████████████████████████████████████████████████████████| 410/410 [29:17<00:00,  4.29s/it, loss=0.227]\n"
     ]
    },
    {
     "name": "stdout",
     "output_type": "stream",
     "text": [
      "Epoch 9 summary — train_loss: 0.1299 val_loss: 0.6030 val_acc: 0.9233 val_f1: 0.9115\n"
     ]
    },
    {
     "name": "stderr",
     "output_type": "stream",
     "text": [
      "Epoch 10/20:   0%|                                                                                                                    | 0/410 [00:00<?, ?it/s]/home/cipher/.wheat/lib/python3.12/site-packages/torch/utils/data/dataloader.py:668: UserWarning: 'pin_memory' argument is set as true but no accelerator is found, then device pinned memory won't be used.\n",
      "  warnings.warn(warn_msg)\n",
      "Epoch 10/20: 100%|██████████████████████████████████████████████████████████████████████████████████████████████| 410/410 [32:03<00:00,  4.69s/it, loss=0.188]\n"
     ]
    },
    {
     "name": "stdout",
     "output_type": "stream",
     "text": [
      "Epoch 10 summary — train_loss: 0.1185 val_loss: 0.6982 val_acc: 0.9167 val_f1: 0.9022\n"
     ]
    },
    {
     "name": "stderr",
     "output_type": "stream",
     "text": [
      "Epoch 11/20:   0%|                                                                                                                    | 0/410 [00:00<?, ?it/s]/home/cipher/.wheat/lib/python3.12/site-packages/torch/utils/data/dataloader.py:668: UserWarning: 'pin_memory' argument is set as true but no accelerator is found, then device pinned memory won't be used.\n",
      "  warnings.warn(warn_msg)\n",
      "Epoch 11/20: 100%|██████████████████████████████████████████████████████████████████████████████████████████████| 410/410 [31:54<00:00,  4.67s/it, loss=0.165]\n"
     ]
    },
    {
     "name": "stdout",
     "output_type": "stream",
     "text": [
      "Epoch 11 summary — train_loss: 0.0966 val_loss: 0.6280 val_acc: 0.9267 val_f1: 0.9105\n",
      "Early stopping triggered.\n",
      "Loading best model for final evaluation.\n"
     ]
    },
    {
     "name": "stderr",
     "output_type": "stream",
     "text": [
      "/home/cipher/.wheat/lib/python3.12/site-packages/torch/utils/data/dataloader.py:668: UserWarning: 'pin_memory' argument is set as true but no accelerator is found, then device pinned memory won't be used.\n",
      "  warnings.warn(warn_msg)\n"
     ]
    },
    {
     "name": "stdout",
     "output_type": "stream",
     "text": [
      "Final val_loss: 0.5944 val_acc: 0.9000 val_f1: 0.8830\n",
      "Classification report:\n",
      "                      precision    recall  f1-score   support\n",
      "\n",
      "               Aphid       0.95      0.95      0.95        20\n",
      "          Black Rust       1.00      1.00      1.00        20\n",
      "               Blast       1.00      0.95      0.97        20\n",
      "          Brown Rust       0.94      0.80      0.86        20\n",
      "     Common Root Rot       1.00      0.95      0.97        20\n",
      "Fusarium Head Blight       0.91      1.00      0.95        20\n",
      "             Healthy       0.33      0.05      0.09        20\n",
      "         Leaf Blight       0.90      0.95      0.93        20\n",
      "              Mildew       0.95      1.00      0.98        20\n",
      "                Mite       1.00      0.90      0.95        20\n",
      "            Septoria       1.00      1.00      1.00        20\n",
      "                Smut       0.95      1.00      0.98        20\n",
      "            Stem fly       1.00      1.00      1.00        20\n",
      "            Tan spot       0.90      0.95      0.93        20\n",
      "         Yellow Rust       0.53      1.00      0.69        20\n",
      "\n",
      "            accuracy                           0.90       300\n",
      "           macro avg       0.89      0.90      0.88       300\n",
      "        weighted avg       0.89      0.90      0.88       300\n",
      "\n",
      "Confusion matrix:\n",
      "[[19  0  0  1  0  0  0  0  0  0  0  0  0  0  0]\n",
      " [ 0 20  0  0  0  0  0  0  0  0  0  0  0  0  0]\n",
      " [ 0  0 19  0  0  1  0  0  0  0  0  0  0  0  0]\n",
      " [ 0  0  0 16  0  0  2  0  1  0  0  0  0  0  1]\n",
      " [ 0  0  0  0 19  0  0  0  0  0  0  0  0  1  0]\n",
      " [ 0  0  0  0  0 20  0  0  0  0  0  0  0  0  0]\n",
      " [ 0  0  0  0  0  1  1  0  0  0  0  1  0  0 17]\n",
      " [ 0  0  0  0  0  0  0 19  0  0  0  0  0  1  0]\n",
      " [ 0  0  0  0  0  0  0  0 20  0  0  0  0  0  0]\n",
      " [ 1  0  0  0  0  0  0  1  0 18  0  0  0  0  0]\n",
      " [ 0  0  0  0  0  0  0  0  0  0 20  0  0  0  0]\n",
      " [ 0  0  0  0  0  0  0  0  0  0  0 20  0  0  0]\n",
      " [ 0  0  0  0  0  0  0  0  0  0  0  0 20  0  0]\n",
      " [ 0  0  0  0  0  0  0  1  0  0  0  0  0 19  0]\n",
      " [ 0  0  0  0  0  0  0  0  0  0  0  0  0  0 20]]\n",
      "Training complete. Model saved to best_wheat_model.pth. To test inference, provide an image at test_samples/sample1.jpg\n"
     ]
    }
   ],
   "source": [
    "import os\n",
    "import random\n",
    "from pathlib import Path\n",
    "from tqdm import tqdm\n",
    "\n",
    "import torch\n",
    "from torch import nn\n",
    "from torch.utils.data import DataLoader\n",
    "from torchvision import transforms, datasets\n",
    "import timm\n",
    "from sklearn.metrics import accuracy_score, f1_score, confusion_matrix, classification_report\n",
    "import numpy as np\n",
    "from PIL import Image\n",
    "\n",
    "# ******** CONFIG ********\n",
    "DATA_DIR = \"data\"\n",
    "TRAIN_DIR = os.path.join(DATA_DIR, \"train\")\n",
    "VAL_DIR = os.path.join(DATA_DIR, \"valid\")\n",
    "MODEL_SAVE = \"best_wheat_model.pth\"\n",
    "BATCH_SIZE = 32\n",
    "IMG_SIZE = 224\n",
    "EPOCHS = 20\n",
    "LR = 1e-4\n",
    "WEIGHT_DECAY = 1e-5\n",
    "MODEL_NAME = \"efficientnet_b0\"\n",
    "DEVICE = \"cuda\" if torch.cuda.is_available() else \"cpu\"\n",
    "NUM_WORKERS = 4\n",
    "PATIENCE = 4  # early stopping patience\n",
    "# ***********************\n",
    "\n",
    "def set_seed(seed=42):\n",
    "    random.seed(seed)\n",
    "    np.random.seed(seed)\n",
    "    torch.manual_seed(seed)\n",
    "    if DEVICE.startswith(\"cuda\"):\n",
    "        torch.cuda.manual_seed_all(seed)\n",
    "\n",
    "set_seed()\n",
    "\n",
    "# Transforms\n",
    "train_tf = transforms.Compose([\n",
    "    transforms.RandomResizedCrop(IMG_SIZE, scale=(0.7,1.0)),\n",
    "    transforms.RandomHorizontalFlip(),\n",
    "    transforms.RandomVerticalFlip(),\n",
    "    transforms.ColorJitter(brightness=0.2, contrast=0.2, saturation=0.2),\n",
    "    transforms.ToTensor(),\n",
    "    transforms.Normalize(mean=[0.485,0.456,0.406], std=[0.229,0.224,0.225]),\n",
    "])\n",
    "\n",
    "val_tf = transforms.Compose([\n",
    "    transforms.Resize(int(IMG_SIZE*1.1)),\n",
    "    transforms.CenterCrop(IMG_SIZE),\n",
    "    transforms.ToTensor(),\n",
    "    transforms.Normalize(mean=[0.485,0.456,0.406], std=[0.229,0.224,0.225]),\n",
    "])\n",
    "\n",
    "# Datasets\n",
    "train_ds = datasets.ImageFolder(TRAIN_DIR, transform=train_tf)\n",
    "val_ds = datasets.ImageFolder(VAL_DIR, transform=val_tf)\n",
    "CLASSES = train_ds.classes\n",
    "NUM_CLASSES = len(CLASSES)\n",
    "print(f\"Classes: {CLASSES}\")\n",
    "\n",
    "train_loader = DataLoader(train_ds, batch_size=BATCH_SIZE, shuffle=True, num_workers=NUM_WORKERS, pin_memory=True)\n",
    "val_loader = DataLoader(val_ds, batch_size=BATCH_SIZE, shuffle=False, num_workers=NUM_WORKERS, pin_memory=True)\n",
    "\n",
    "# Model\n",
    "def build_model(num_classes):\n",
    "    model = timm.create_model(MODEL_NAME, pretrained=True)\n",
    "    # replace classifier\n",
    "    if hasattr(model, 'classifier'):\n",
    "        in_features = model.classifier.in_features\n",
    "        model.classifier = nn.Linear(in_features, num_classes)\n",
    "    elif hasattr(model, 'fc'):\n",
    "        in_features = model.fc.in_features\n",
    "        model.fc = nn.Linear(in_features, num_classes)\n",
    "    else:\n",
    "        # generic\n",
    "        model.reset_classifier(num_classes)\n",
    "    return model\n",
    "\n",
    "model = build_model(NUM_CLASSES).to(DEVICE)\n",
    "\n",
    "# Loss, optimizer, scheduler\n",
    "criterion = nn.CrossEntropyLoss()\n",
    "optimizer = torch.optim.AdamW(model.parameters(), lr=LR, weight_decay=WEIGHT_DECAY)\n",
    "scheduler = torch.optim.lr_scheduler.ReduceLROnPlateau(optimizer, mode='min', factor=0.5, patience=2)\n",
    "\n",
    "# Training & validation loops\n",
    "def validate(model, loader):\n",
    "    model.eval()\n",
    "    preds = []\n",
    "    trues = []\n",
    "    total_loss = 0.0\n",
    "    with torch.no_grad():\n",
    "        for xb, yb in loader:\n",
    "            xb, yb = xb.to(DEVICE), yb.to(DEVICE)\n",
    "            out = model(xb)\n",
    "            loss = criterion(out, yb)\n",
    "            total_loss += loss.item() * xb.size(0)\n",
    "            preds.extend(torch.argmax(out, dim=1).cpu().numpy())\n",
    "            trues.extend(yb.cpu().numpy())\n",
    "    avg_loss = total_loss / len(loader.dataset)\n",
    "    acc = accuracy_score(trues, preds)\n",
    "    f1 = f1_score(trues, preds, average='weighted')\n",
    "    return avg_loss, acc, f1, trues, preds\n",
    "\n",
    "best_val_loss = float('inf')\n",
    "no_improve = 0\n",
    "\n",
    "for epoch in range(1, EPOCHS+1):\n",
    "    model.train()\n",
    "    running_loss = 0.0\n",
    "    pbar = tqdm(train_loader, desc=f\"Epoch {epoch}/{EPOCHS}\")\n",
    "    for xb, yb in pbar:\n",
    "        xb, yb = xb.to(DEVICE), yb.to(DEVICE)\n",
    "        optimizer.zero_grad()\n",
    "        out = model(xb)\n",
    "        loss = criterion(out, yb)\n",
    "        loss.backward()\n",
    "        optimizer.step()\n",
    "        running_loss += loss.item() * xb.size(0)\n",
    "        pbar.set_postfix(loss=loss.item())\n",
    "    train_loss = running_loss / len(train_loader.dataset)\n",
    "    val_loss, val_acc, val_f1, trues, preds = validate(model, val_loader)\n",
    "    scheduler.step(val_loss)\n",
    "    print(f\"Epoch {epoch} summary — train_loss: {train_loss:.4f} val_loss: {val_loss:.4f} val_acc: {val_acc:.4f} val_f1: {val_f1:.4f}\")\n",
    "\n",
    "    # save best\n",
    "    if val_loss < best_val_loss:\n",
    "        best_val_loss = val_loss\n",
    "        torch.save({\n",
    "            'model_state': model.state_dict(),\n",
    "            'optimizer_state': optimizer.state_dict(),\n",
    "            'classes': CLASSES,\n",
    "            'img_size': IMG_SIZE,\n",
    "        }, MODEL_SAVE)\n",
    "        print(\"Saved best model.\")\n",
    "        no_improve = 0\n",
    "    else:\n",
    "        no_improve += 1\n",
    "        if no_improve >= PATIENCE:\n",
    "            print(\"Early stopping triggered.\")\n",
    "            break\n",
    "\n",
    "# Final evaluation and report\n",
    "print(\"Loading best model for final evaluation.\")\n",
    "ckpt = torch.load(MODEL_SAVE, map_location=DEVICE)\n",
    "model.load_state_dict(ckpt['model_state'])\n",
    "val_loss, val_acc, val_f1, trues, preds = validate(model, val_loader)\n",
    "print(f\"Final val_loss: {val_loss:.4f} val_acc: {val_acc:.4f} val_f1: {val_f1:.4f}\")\n",
    "print(\"Classification report:\")\n",
    "print(classification_report(trues, preds, target_names=CLASSES))\n",
    "print(\"Confusion matrix:\")\n",
    "print(confusion_matrix(trues, preds))\n",
    "\n",
    "# Single image inference utility\n",
    "def predict_image(path, model, classes, transform):\n",
    "    model.eval()\n",
    "    img = Image.open(path).convert('RGB')\n",
    "    x = transform(img).unsqueeze(0).to(DEVICE)\n",
    "    with torch.no_grad():\n",
    "        out = model(x)\n",
    "        probs = torch.softmax(out, dim=1).cpu().numpy()[0]\n",
    "        idx = int(out.argmax(dim=1).cpu().numpy()[0])\n",
    "    return {'class': classes[idx], 'prob': float(probs[idx]), 'probs': probs.tolist()}\n",
    "\n",
    "if __name__ == \"__main__\":\n",
    "    # example inference. set image path\n",
    "    test_img = \"test_samples/sample1.jpg\"\n",
    "    if os.path.exists(test_img):\n",
    "        result = predict_image(test_img, model, CLASSES, val_tf)\n",
    "        print(\"Prediction:\", result)\n",
    "    else:\n",
    "        print(f\"Training complete. Model saved to {MODEL_SAVE}. To test inference, provide an image at {test_img}\")"
   ]
  },
  {
   "cell_type": "markdown",
   "id": "98897fbf-fd6b-4a73-a603-9806f1efda3e",
   "metadata": {},
   "source": [
    "# Inference Code"
   ]
  },
  {
   "cell_type": "code",
   "execution_count": null,
   "id": "0f9a2944-471e-4f31-8b33-aab21ce3eca9",
   "metadata": {},
   "outputs": [
    {
     "name": "stdout",
     "output_type": "stream",
     "text": [
      "Testing on: /home/cipher/Documents/Diseases/data/test/aphid_test\n",
      "Classes: ['Aphid', 'Black Rust', 'Blast', 'Brown Rust', 'Common Root Rot', 'Fusarium Head Blight', 'Healthy', 'Leaf Blight', 'Mildew', 'Mite', 'Septoria', 'Smut', 'Stem fly', 'Tan spot', 'Yellow Rust']\n",
      "aphid_69.png: Brown Rust (0.337)\n",
      "aphid_66.png: Aphid (1.000)\n",
      "aphid_30.png: Aphid (0.988)\n",
      "aphid_61.png: Aphid (0.999)\n",
      "aphid_65.png: Aphid (0.999)\n",
      "aphid_38.png: Aphid (1.000)\n",
      "aphid_44.png: Aphid (0.990)\n",
      "aphid_63.png: Aphid (0.966)\n",
      "aphid_34.png: Aphid (0.999)\n",
      "aphid_40.png: Aphid (1.000)\n",
      "aphid_41.png: Aphid (0.806)\n",
      "aphid_60.png: Aphid (1.000)\n",
      "aphid_55.png: Aphid (0.985)\n",
      "aphid_71.png: Aphid (0.994)\n",
      "aphid_27.png: Aphid (0.998)\n",
      "aphid_70.png: Aphid (1.000)\n",
      "aphid_57.png: Aphid (0.991)\n",
      "aphid_54.png: Aphid (0.995)\n",
      "aphid_49.png: Aphid (0.633)\n",
      "aphid_37.png: Aphid (1.000)\n",
      "aphid_28.png: Aphid (1.000)\n",
      "aphid_72.png: Aphid (0.999)\n",
      "aphid_39.png: Aphid (0.979)\n",
      "aphid_73.png: Aphid (0.899)\n",
      "aphid_76.png: Aphid (0.999)\n",
      "aphid_51.png: Aphid (0.996)\n",
      "aphid_53.png: Aphid (1.000)\n",
      "aphid_31.png: Aphid (1.000)\n",
      "aphid_36.png: Aphid (1.000)\n",
      "aphid_35.png: Aphid (1.000)\n",
      "aphid_42.png: Aphid (0.994)\n",
      "aphid_62.png: Aphid (0.999)\n",
      "aphid_43.png: Aphid (0.991)\n",
      "aphid_52.png: Aphid (0.995)\n",
      "aphid_48.png: Aphid (1.000)\n",
      "aphid_50.png: Aphid (0.999)\n",
      "aphid_29.png: Aphid (1.000)\n",
      "aphid_64.png: Aphid (1.000)\n",
      "aphid_46.png: Aphid (0.930)\n",
      "aphid_68.png: Aphid (1.000)\n",
      "aphid_75.png: Aphid (0.999)\n",
      "aphid_74.png: Aphid (1.000)\n",
      "aphid_33.png: Tan spot (0.299)\n",
      "aphid_67.png: Aphid (1.000)\n",
      "aphid_58.png: Aphid (0.989)\n",
      "aphid_32.png: Aphid (0.999)\n",
      "aphid_59.png: Aphid (1.000)\n",
      "aphid_45.png: Aphid (0.976)\n",
      "aphid_47.png: Aphid (1.000)\n",
      "aphid_56.png: Aphid (0.834)\n"
     ]
    }
   ],
   "source": [
    "import os\n",
    "import torch\n",
    "import timm\n",
    "import numpy as np\n",
    "from PIL import Image\n",
    "from torchvision import transforms\n",
    "\n",
    "# ========== CONFIG ==========\n",
    "MODEL_PATH = \"best_wheat_model.pth\"\n",
    "DEVICE = \"cuda\" if torch.cuda.is_available() else \"cpu\"\n",
    "MODEL_NAME = \"efficientnet_b0\"\n",
    "# =============================\n",
    "\n",
    "# ----- Load checkpoint -----\n",
    "ckpt = torch.load(MODEL_PATH, map_location=DEVICE)\n",
    "CLASSES = ckpt[\"classes\"]\n",
    "IMG_SIZE = ckpt[\"img_size\"]\n",
    "\n",
    "# ----- Build same model -----\n",
    "def build_model(num_classes):\n",
    "    model = timm.create_model(MODEL_NAME, pretrained=False)\n",
    "    if hasattr(model, 'classifier'):\n",
    "        in_features = model.classifier.in_features\n",
    "        model.classifier = torch.nn.Linear(in_features, num_classes)\n",
    "    elif hasattr(model, 'fc'):\n",
    "        in_features = model.fc.in_features\n",
    "        model.fc = torch.nn.Linear(in_features, num_classes)\n",
    "    else:\n",
    "        model.reset_classifier(num_classes)\n",
    "    return model\n",
    "\n",
    "model = build_model(len(CLASSES)).to(DEVICE)\n",
    "model.load_state_dict(ckpt[\"model_state\"])\n",
    "model.eval()\n",
    "\n",
    "# ----- Transform (must match training) -----\n",
    "val_tf = transforms.Compose([\n",
    "    transforms.Resize(int(IMG_SIZE * 1.1)),\n",
    "    transforms.CenterCrop(IMG_SIZE),\n",
    "    transforms.ToTensor(),\n",
    "    transforms.Normalize(mean=[0.485, 0.456, 0.406],\n",
    "                         std=[0.229, 0.224, 0.225]),\n",
    "])\n",
    "\n",
    "# ----- Prediction function -----\n",
    "def predict_image(image_path):\n",
    "    if not os.path.exists(image_path):\n",
    "        raise FileNotFoundError(f\"{image_path} not found.\")\n",
    "    img = Image.open(image_path).convert(\"RGB\")\n",
    "    x = val_tf(img).unsqueeze(0).to(DEVICE)\n",
    "\n",
    "    with torch.no_grad():\n",
    "        out = model(x)\n",
    "        probs = torch.softmax(out, dim=1).cpu().numpy()[0]\n",
    "        idx = int(np.argmax(probs))\n",
    "        return {\n",
    "            \"predicted_class\": CLASSES[idx],\n",
    "            \"confidence\": float(probs[idx]),\n",
    "            \"class_probabilities\": dict(zip(CLASSES, [float(p) for p in probs]))\n",
    "        }\n",
    "\n",
    "if __name__ == \"__main__\":\n",
    "    test_dir = \"/home/cipher/Documents/Diseases/data/test/aphid_test\"\n",
    "    os.makedirs(test_dir, exist_ok=True)\n",
    "    print(f\"Testing on: {test_dir}\")\n",
    "    print(\"Classes:\", CLASSES)\n",
    "\n",
    "    found = False\n",
    "    for fname in os.listdir(test_dir):\n",
    "        if fname.lower().endswith((\".jpg\", \".jpeg\", \".png\")):\n",
    "            found = True\n",
    "            path = os.path.join(test_dir, fname)\n",
    "            result = predict_image(path)\n",
    "            print(f\"{fname}: {result['predicted_class']} ({result['confidence']:.3f})\")\n",
    "    if not found:\n",
    "        print(\"No image files found in test_dir.\")"
   ]
  }
 ],
 "metadata": {
  "kernelspec": {
   "display_name": "Python 3 (ipykernel)",
   "language": "python",
   "name": "python3"
  },
  "language_info": {
   "codemirror_mode": {
    "name": "ipython",
    "version": 3
   },
   "file_extension": ".py",
   "mimetype": "text/x-python",
   "name": "python",
   "nbconvert_exporter": "python",
   "pygments_lexer": "ipython3",
   "version": "3.12.3"
  }
 },
 "nbformat": 4,
 "nbformat_minor": 5
}
